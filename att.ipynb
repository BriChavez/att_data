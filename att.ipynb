{
 "cells": [
  {
   "cell_type": "code",
   "execution_count": 15,
   "metadata": {},
   "outputs": [
    {
     "name": "stdout",
     "output_type": "stream",
     "text": [
      "Index(['Unnamed: 0', 'Records', 'Credit Checked', 'Credit Passed',\n",
      "       'Analyst Review Not Cleared', 'Triggered AR', 'Down Payment Required',\n",
      "       'Sales', 'Line Count', 'New Lines', 'Port Lines', 'Upgrade Lines',\n",
      "       'BYOD Lines', 'Internet Sales', 'Next Up %', 'Premium/Extra %', 'ABP %',\n",
      "       'Phones', 'Tablets', 'Wearables'],\n",
      "      dtype='object')\n"
     ]
    }
   ],
   "source": [
    "import pandas as pd\n",
    "import datetime\n",
    "\n",
    "install = pd.read_csv('InstallDashboard_ATT.csv')\n",
    "order = pd.read_csv('OrderDashboard_Wireless.csv')\n",
    "\n",
    "print(order.keys())"
   ]
  },
  {
   "cell_type": "code",
   "execution_count": null,
   "metadata": {},
   "outputs": [],
   "source": [
    "class Parent1:\n",
    "    def assign_str1(self, str1):\n",
    "        self.str1 = str1\n",
    "\n",
    "    def show_str1(self):\n",
    "        print(self.str1)\n",
    "\n",
    "class Parent2:\n",
    "    def assign_str2(self, str2):\n",
    "        self.str2= str2\n",
    "\n",
    "    def show_str2(self):\n",
    "        print(self.str2)\n",
    "\n",
    "class Child(Parent1, Parent2):\n",
    "    def assign_str3(self, str3):\n",
    "        self.str3 = str3\n",
    "\n",
    "    def show_str3(self):\n",
    "        print(self.str3)\n",
    "\n",
    "c1 = Child()"
   ]
  }
 ],
 "metadata": {
  "kernelspec": {
   "display_name": "venv",
   "language": "python",
   "name": "python3"
  },
  "language_info": {
   "codemirror_mode": {
    "name": "ipython",
    "version": 3
   },
   "file_extension": ".py",
   "mimetype": "text/x-python",
   "name": "python",
   "nbconvert_exporter": "python",
   "pygments_lexer": "ipython3",
   "version": "3.7.17"
  }
 },
 "nbformat": 4,
 "nbformat_minor": 2
}
