{
 "cells": [
  {
   "cell_type": "code",
   "execution_count": 15,
   "metadata": {},
   "outputs": [
    {
     "name": "stdout",
     "output_type": "stream",
     "text": [
      "Index(['Unnamed: 0', 'Records', 'Credit Checked', 'Credit Passed',\n",
      "       'Analyst Review Not Cleared', 'Triggered AR', 'Down Payment Required',\n",
      "       'Sales', 'Line Count', 'New Lines', 'Port Lines', 'Upgrade Lines',\n",
      "       'BYOD Lines', 'Internet Sales', 'Next Up %', 'Premium/Extra %', 'ABP %',\n",
      "       'Phones', 'Tablets', 'Wearables'],\n",
      "      dtype='object')\n"
     ]
    }
   ],
   "source": [
    "import pandas as pd\n",
    "import datetime\n",
    "\n",
    "install = pd.read_csv('InstallDashboard_ATT.csv')\n",
    "order = pd.read_csv('OrderDashboard_Wireless.csv')\n",
    "\n",
    "print(order.keys())"
   ]
  },
  {
   "cell_type": "code",
   "execution_count": null,
   "metadata": {},
   "outputs": [],
   "source": []
  }
 ],
 "metadata": {
  "kernelspec": {
   "display_name": "venv",
   "language": "python",
   "name": "python3"
  },
  "language_info": {
   "codemirror_mode": {
    "name": "ipython",
    "version": 3
   },
   "file_extension": ".py",
   "mimetype": "text/x-python",
   "name": "python",
   "nbconvert_exporter": "python",
   "pygments_lexer": "ipython3",
   "version": "3.7.17"
  }
 },
 "nbformat": 4,
 "nbformat_minor": 2
}
